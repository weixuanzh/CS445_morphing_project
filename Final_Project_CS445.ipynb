{
 "cells": [
  {
   "cell_type": "code",
   "execution_count": 1,
   "id": "eb69b4dd-9c43-42ec-8df0-6700338cbdd2",
   "metadata": {},
   "outputs": [],
   "source": [
    "import cv2\n",
    "import numpy as np\n",
    "import matplotlib\n",
    "matplotlib.use('TkAgg')  # or 'QtAgg' if you prefer\n",
    "import matplotlib.pyplot as plt\n",
    "import matplotlib.pyplot as plt\n",
    "from scipy.spatial import Delaunay\n",
    "import sys\n",
    "sys.path.append('./')\n",
    "from external.ADNet.lib.backbone import stackedHGNetV1\n",
    "import torch\n",
    "import os\n",
    "import mediapipe as mp\n",
    "import matplotlib\n",
    "from Methods import *"
   ]
  },
  {
   "cell_type": "markdown",
   "id": "0e4075cd",
   "metadata": {},
   "source": [
    "# Manual Keypoint Detection"
   ]
  },
  {
   "cell_type": "code",
   "execution_count": null,
   "id": "380cd340",
   "metadata": {},
   "outputs": [],
   "source": [
    "img1 = cv2.imread(\"face_img.jpg\")\n",
    "img2 = cv2.imread(\"lion_img.jpg\")\n",
    "\n",
    "morph_img = Image_Morph(\n",
    "    img1, img2,\n",
    "    point_selection='MANUAL',\n",
    "    alpha=0.5,\n",
    "    output_image_path=\"outputs/morph.jpg\",\n",
    "    output_video_path=\"outputs/morph_loop.mp4\"\n",
    ")\n"
   ]
  },
  {
   "cell_type": "markdown",
   "id": "cbf43399",
   "metadata": {},
   "source": [
    "### Display Average Morph (alpha=0.5)"
   ]
  },
  {
   "cell_type": "code",
   "execution_count": 3,
   "id": "56d46822",
   "metadata": {},
   "outputs": [],
   "source": [
    "import matplotlib.pyplot as plt\n",
    "\n",
    "plt.imshow(cv2.cvtColor(morph_img, cv2.COLOR_BGR2RGB))\n",
    "plt.title(\"Morphed Image\")\n",
    "plt.axis('off')\n",
    "plt.show()"
   ]
  },
  {
   "cell_type": "markdown",
   "id": "9342b2ec",
   "metadata": {},
   "source": [
    "### Preview Morph Video"
   ]
  },
  {
   "cell_type": "code",
   "execution_count": null,
   "id": "cb001f85",
   "metadata": {},
   "outputs": [],
   "source": [
    "preview_video('morph_loop.mp4')"
   ]
  },
  {
   "cell_type": "markdown",
   "id": "6207946d",
   "metadata": {},
   "source": [
    "# ADNET Keypoint Detection"
   ]
  },
  {
   "cell_type": "code",
   "execution_count": null,
   "id": "79979e3f",
   "metadata": {},
   "outputs": [],
   "source": [
    "img1 = cv2.imread(\"face_img.jpg\")\n",
    "img2 = cv2.imread(\"lion_img.jpg\")\n",
    "\n",
    "morph_img2 = Image_Morph(\n",
    "    img1, img2,\n",
    "    point_selection='ADNET',\n",
    "    alpha=0.5,\n",
    "    output_image_path=\"outputs/morph2.jpg\",\n",
    "    output_video_path=\"outputs/morph_loop2.mp4\",\n",
    "    adnet_ckpt_dir=\"./train.pkl\"\n",
    ")\n"
   ]
  },
  {
   "cell_type": "markdown",
   "id": "ba4a25cb",
   "metadata": {},
   "source": [
    "### Display Average Morph (alpha=0.5)"
   ]
  },
  {
   "cell_type": "code",
   "execution_count": null,
   "id": "2546242c-709a-4cb8-9b04-4b3567b5872a",
   "metadata": {},
   "outputs": [],
   "source": [
    "import matplotlib.pyplot as plt\n",
    "\n",
    "plt.imshow(cv2.cvtColor(morph_img2, cv2.COLOR_BGR2RGB))\n",
    "plt.title(\"Morphed Image\")\n",
    "plt.axis('off')\n",
    "plt.show()"
   ]
  },
  {
   "cell_type": "markdown",
   "id": "f1b59224",
   "metadata": {},
   "source": [
    "### Preview Morph Video"
   ]
  },
  {
   "cell_type": "code",
   "execution_count": null,
   "id": "b6fbb363",
   "metadata": {},
   "outputs": [],
   "source": [
    "preview_video('morph_loop2.mp4')"
   ]
  },
  {
   "cell_type": "markdown",
   "id": "83af0b70",
   "metadata": {},
   "source": [
    "# Mediapipe Keypoint Detection"
   ]
  },
  {
   "cell_type": "code",
   "execution_count": null,
   "id": "5dab6215",
   "metadata": {},
   "outputs": [],
   "source": [
    "# since mediapipe does not support non-human faces, lion image is not used\n",
    "img1 = cv2.imread(\"./image_pairs/1/10_0_0_20161220222308131.jpg\")\n",
    "img2 = cv2.imread(\"./image_pairs/1/10_0_0_20170103200329407.jpg\")\n",
    "\n",
    "morph_img2 = Image_Morph(\n",
    "    img1, img2,\n",
    "    point_selection='MP',\n",
    "    alpha=0.5,\n",
    "    output_image_path=\"outputs/morph3.jpg\",\n",
    "    output_video_path=\"outputs/morph_loop3.mp4\",\n",
    ")"
   ]
  },
  {
   "cell_type": "markdown",
   "id": "7c5fd833",
   "metadata": {},
   "source": [
    "### Display Average Morph (alpha=0.5)"
   ]
  },
  {
   "cell_type": "code",
   "execution_count": null,
   "id": "ece85a38",
   "metadata": {},
   "outputs": [],
   "source": [
    "import matplotlib.pyplot as plt\n",
    "\n",
    "plt.imshow(cv2.cvtColor(morph_img2, cv2.COLOR_BGR2RGB))\n",
    "plt.title(\"Morphed Image\")\n",
    "plt.axis('off')\n",
    "plt.show()"
   ]
  },
  {
   "cell_type": "markdown",
   "id": "95a667f2",
   "metadata": {},
   "source": [
    "### Preview Morph Video"
   ]
  },
  {
   "cell_type": "code",
   "execution_count": null,
   "id": "21cdd230",
   "metadata": {},
   "outputs": [],
   "source": [
    "preview_video('morph_loop3.mp4')"
   ]
  },
  {
   "cell_type": "markdown",
   "id": "ed9132ff",
   "metadata": {},
   "source": [
    "### Check if morphing from A to B and B to A is symmetric"
   ]
  },
  {
   "cell_type": "code",
   "execution_count": null,
   "id": "bc31cb4a",
   "metadata": {},
   "outputs": [],
   "source": [
    "run_symmetry_accuracy_test()"
   ]
  },
  {
   "cell_type": "code",
   "execution_count": null,
   "id": "5b7891e2",
   "metadata": {},
   "outputs": [],
   "source": []
  }
 ],
 "metadata": {
  "kernelspec": {
   "display_name": "ml-venv",
   "language": "python",
   "name": "python3"
  },
  "language_info": {
   "codemirror_mode": {
    "name": "ipython",
    "version": 3
   },
   "file_extension": ".py",
   "mimetype": "text/x-python",
   "name": "python",
   "nbconvert_exporter": "python",
   "pygments_lexer": "ipython3",
   "version": "3.12.10"
  }
 },
 "nbformat": 4,
 "nbformat_minor": 5
}
